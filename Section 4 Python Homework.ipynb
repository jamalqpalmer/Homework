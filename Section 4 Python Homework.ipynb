{
 "cells": [
  {
   "cell_type": "code",
   "execution_count": 9,
   "metadata": {},
   "outputs": [
    {
     "name": "stdout",
     "output_type": "stream",
     "text": [
      "Renting a car is very expensive\n"
     ]
    }
   ],
   "source": [
    "# Question 1: Create an if statement\n",
    "age = 20\n",
    "# if 'age' is greater than or equal to 25, print \"Renting a car is more affordable\"\n",
    "if age >= 25:\n",
    "    print(\"Renting a car is more affordable\")\n",
    "# if 'age' is less than 25, print \"Renting a car is very expensive.\"\n",
    "if age < 25:\n",
    "    print(\"Renting a car is very expensive\")"
   ]
  },
  {
   "cell_type": "code",
   "execution_count": 14,
   "metadata": {},
   "outputs": [
    {
     "name": "stdout",
     "output_type": "stream",
     "text": [
      "Renting a car is very expensive\n"
     ]
    }
   ],
   "source": [
    "# Question 2: Create and chain an if-else statement\n",
    "age = 18\n",
    "# if 'age' is greater than or equal to 25, print \"Renting a car is more affordable.\"\n",
    "# if 'age' is less than 25 but greater than or equal to 18, print \"Renting a car is very expensive.\"\n",
    "if age >= 25:\n",
    "    print(\"Renting a car is more affordable\")\n",
    "elif age >= 18:\n",
    "    print(\"Renting a car is very expensive\")\n",
    "# if age is less than 18, print \"You cannot legally rent a car.\"\n",
    "if age < 18:\n",
    "    print(\"You cannot legally rent a car\")\n",
    "\n"
   ]
  },
  {
   "cell_type": "code",
   "execution_count": 14,
   "metadata": {},
   "outputs": [
    {
     "name": "stdout",
     "output_type": "stream",
     "text": [
      "43\n",
      "11\n"
     ]
    }
   ],
   "source": [
    "# Question 3\n",
    "# Loop over the following string to count all the characters in the string\n",
    "\n",
    "string1 = 'The quick brown fox jumps over the lazy dog'\n",
    "\n",
    "sum = 0\n",
    "for char in string1:\n",
    "    sum += int(1)\n",
    "print(sum)\n",
    "\n",
    "# Loop over the following string to print out all the vowels\n",
    "\n",
    "vowels = 0\n",
    "for char in string1:\n",
    "    if char in \"a\" \"e\" \"i\" \"o\" \"u\":\n",
    "        vowels = vowels +1\n",
    "print(vowels)"
   ]
  },
  {
   "cell_type": "code",
   "execution_count": 37,
   "metadata": {},
   "outputs": [
    {
     "name": "stdout",
     "output_type": "stream",
     "text": [
      "trousers {'gunmetal blue', 'aqua', 'fuchsia', 'cerise', 'auburn', 'maple', 'Dark Sapphire', 'burnt sienna'}\n",
      "trousers {'gunmetal blue', 'aqua', 'fuchsia', 'cerise', 'auburn', 'maple', 'Dark Sapphire', 'burnt sienna'}\n",
      "trousers {'gunmetal blue', 'aqua', 'fuchsia', 'cerise', 'auburn', 'maple', 'Dark Sapphire', 'burnt sienna'}\n",
      "trousers {'gunmetal blue', 'aqua', 'fuchsia', 'cerise', 'auburn', 'maple', 'Dark Sapphire', 'burnt sienna'}\n",
      "trousers {'gunmetal blue', 'aqua', 'fuchsia', 'cerise', 'auburn', 'maple', 'Dark Sapphire', 'burnt sienna'}\n",
      "trousers {'gunmetal blue', 'aqua', 'fuchsia', 'cerise', 'auburn', 'maple', 'Dark Sapphire', 'burnt sienna'}\n",
      "trousers {'gunmetal blue', 'aqua', 'fuchsia', 'cerise', 'auburn', 'maple', 'Dark Sapphire', 'burnt sienna'}\n",
      "trousers {'gunmetal blue', 'aqua', 'fuchsia', 'cerise', 'auburn', 'maple', 'Dark Sapphire', 'burnt sienna'}\n",
      "blouse {'gunmetal blue', 'aqua', 'fuchsia', 'cerise', 'auburn', 'maple', 'Dark Sapphire', 'burnt sienna'}\n",
      "blouse {'gunmetal blue', 'aqua', 'fuchsia', 'cerise', 'auburn', 'maple', 'Dark Sapphire', 'burnt sienna'}\n",
      "blouse {'gunmetal blue', 'aqua', 'fuchsia', 'cerise', 'auburn', 'maple', 'Dark Sapphire', 'burnt sienna'}\n",
      "blouse {'gunmetal blue', 'aqua', 'fuchsia', 'cerise', 'auburn', 'maple', 'Dark Sapphire', 'burnt sienna'}\n",
      "blouse {'gunmetal blue', 'aqua', 'fuchsia', 'cerise', 'auburn', 'maple', 'Dark Sapphire', 'burnt sienna'}\n",
      "blouse {'gunmetal blue', 'aqua', 'fuchsia', 'cerise', 'auburn', 'maple', 'Dark Sapphire', 'burnt sienna'}\n",
      "blouse {'gunmetal blue', 'aqua', 'fuchsia', 'cerise', 'auburn', 'maple', 'Dark Sapphire', 'burnt sienna'}\n",
      "blouse {'gunmetal blue', 'aqua', 'fuchsia', 'cerise', 'auburn', 'maple', 'Dark Sapphire', 'burnt sienna'}\n",
      "bandana {'gunmetal blue', 'aqua', 'fuchsia', 'cerise', 'auburn', 'maple', 'Dark Sapphire', 'burnt sienna'}\n",
      "bandana {'gunmetal blue', 'aqua', 'fuchsia', 'cerise', 'auburn', 'maple', 'Dark Sapphire', 'burnt sienna'}\n",
      "bandana {'gunmetal blue', 'aqua', 'fuchsia', 'cerise', 'auburn', 'maple', 'Dark Sapphire', 'burnt sienna'}\n",
      "bandana {'gunmetal blue', 'aqua', 'fuchsia', 'cerise', 'auburn', 'maple', 'Dark Sapphire', 'burnt sienna'}\n",
      "bandana {'gunmetal blue', 'aqua', 'fuchsia', 'cerise', 'auburn', 'maple', 'Dark Sapphire', 'burnt sienna'}\n",
      "bandana {'gunmetal blue', 'aqua', 'fuchsia', 'cerise', 'auburn', 'maple', 'Dark Sapphire', 'burnt sienna'}\n",
      "bandana {'gunmetal blue', 'aqua', 'fuchsia', 'cerise', 'auburn', 'maple', 'Dark Sapphire', 'burnt sienna'}\n",
      "bandana {'gunmetal blue', 'aqua', 'fuchsia', 'cerise', 'auburn', 'maple', 'Dark Sapphire', 'burnt sienna'}\n",
      "cumber band {'gunmetal blue', 'aqua', 'fuchsia', 'cerise', 'auburn', 'maple', 'Dark Sapphire', 'burnt sienna'}\n",
      "cumber band {'gunmetal blue', 'aqua', 'fuchsia', 'cerise', 'auburn', 'maple', 'Dark Sapphire', 'burnt sienna'}\n",
      "cumber band {'gunmetal blue', 'aqua', 'fuchsia', 'cerise', 'auburn', 'maple', 'Dark Sapphire', 'burnt sienna'}\n",
      "cumber band {'gunmetal blue', 'aqua', 'fuchsia', 'cerise', 'auburn', 'maple', 'Dark Sapphire', 'burnt sienna'}\n",
      "cumber band {'gunmetal blue', 'aqua', 'fuchsia', 'cerise', 'auburn', 'maple', 'Dark Sapphire', 'burnt sienna'}\n",
      "cumber band {'gunmetal blue', 'aqua', 'fuchsia', 'cerise', 'auburn', 'maple', 'Dark Sapphire', 'burnt sienna'}\n",
      "cumber band {'gunmetal blue', 'aqua', 'fuchsia', 'cerise', 'auburn', 'maple', 'Dark Sapphire', 'burnt sienna'}\n",
      "cumber band {'gunmetal blue', 'aqua', 'fuchsia', 'cerise', 'auburn', 'maple', 'Dark Sapphire', 'burnt sienna'}\n",
      "blazer {'gunmetal blue', 'aqua', 'fuchsia', 'cerise', 'auburn', 'maple', 'Dark Sapphire', 'burnt sienna'}\n",
      "blazer {'gunmetal blue', 'aqua', 'fuchsia', 'cerise', 'auburn', 'maple', 'Dark Sapphire', 'burnt sienna'}\n",
      "blazer {'gunmetal blue', 'aqua', 'fuchsia', 'cerise', 'auburn', 'maple', 'Dark Sapphire', 'burnt sienna'}\n",
      "blazer {'gunmetal blue', 'aqua', 'fuchsia', 'cerise', 'auburn', 'maple', 'Dark Sapphire', 'burnt sienna'}\n",
      "blazer {'gunmetal blue', 'aqua', 'fuchsia', 'cerise', 'auburn', 'maple', 'Dark Sapphire', 'burnt sienna'}\n",
      "blazer {'gunmetal blue', 'aqua', 'fuchsia', 'cerise', 'auburn', 'maple', 'Dark Sapphire', 'burnt sienna'}\n",
      "blazer {'gunmetal blue', 'aqua', 'fuchsia', 'cerise', 'auburn', 'maple', 'Dark Sapphire', 'burnt sienna'}\n",
      "blazer {'gunmetal blue', 'aqua', 'fuchsia', 'cerise', 'auburn', 'maple', 'Dark Sapphire', 'burnt sienna'}\n",
      "vest {'gunmetal blue', 'aqua', 'fuchsia', 'cerise', 'auburn', 'maple', 'Dark Sapphire', 'burnt sienna'}\n",
      "vest {'gunmetal blue', 'aqua', 'fuchsia', 'cerise', 'auburn', 'maple', 'Dark Sapphire', 'burnt sienna'}\n",
      "vest {'gunmetal blue', 'aqua', 'fuchsia', 'cerise', 'auburn', 'maple', 'Dark Sapphire', 'burnt sienna'}\n",
      "vest {'gunmetal blue', 'aqua', 'fuchsia', 'cerise', 'auburn', 'maple', 'Dark Sapphire', 'burnt sienna'}\n",
      "vest {'gunmetal blue', 'aqua', 'fuchsia', 'cerise', 'auburn', 'maple', 'Dark Sapphire', 'burnt sienna'}\n",
      "vest {'gunmetal blue', 'aqua', 'fuchsia', 'cerise', 'auburn', 'maple', 'Dark Sapphire', 'burnt sienna'}\n",
      "vest {'gunmetal blue', 'aqua', 'fuchsia', 'cerise', 'auburn', 'maple', 'Dark Sapphire', 'burnt sienna'}\n",
      "vest {'gunmetal blue', 'aqua', 'fuchsia', 'cerise', 'auburn', 'maple', 'Dark Sapphire', 'burnt sienna'}\n",
      "french beret {'gunmetal blue', 'aqua', 'fuchsia', 'cerise', 'auburn', 'maple', 'Dark Sapphire', 'burnt sienna'}\n",
      "french beret {'gunmetal blue', 'aqua', 'fuchsia', 'cerise', 'auburn', 'maple', 'Dark Sapphire', 'burnt sienna'}\n",
      "french beret {'gunmetal blue', 'aqua', 'fuchsia', 'cerise', 'auburn', 'maple', 'Dark Sapphire', 'burnt sienna'}\n",
      "french beret {'gunmetal blue', 'aqua', 'fuchsia', 'cerise', 'auburn', 'maple', 'Dark Sapphire', 'burnt sienna'}\n",
      "french beret {'gunmetal blue', 'aqua', 'fuchsia', 'cerise', 'auburn', 'maple', 'Dark Sapphire', 'burnt sienna'}\n",
      "french beret {'gunmetal blue', 'aqua', 'fuchsia', 'cerise', 'auburn', 'maple', 'Dark Sapphire', 'burnt sienna'}\n",
      "french beret {'gunmetal blue', 'aqua', 'fuchsia', 'cerise', 'auburn', 'maple', 'Dark Sapphire', 'burnt sienna'}\n",
      "french beret {'gunmetal blue', 'aqua', 'fuchsia', 'cerise', 'auburn', 'maple', 'Dark Sapphire', 'burnt sienna'}\n",
      "scarf {'gunmetal blue', 'aqua', 'fuchsia', 'cerise', 'auburn', 'maple', 'Dark Sapphire', 'burnt sienna'}\n",
      "scarf {'gunmetal blue', 'aqua', 'fuchsia', 'cerise', 'auburn', 'maple', 'Dark Sapphire', 'burnt sienna'}\n",
      "scarf {'gunmetal blue', 'aqua', 'fuchsia', 'cerise', 'auburn', 'maple', 'Dark Sapphire', 'burnt sienna'}\n",
      "scarf {'gunmetal blue', 'aqua', 'fuchsia', 'cerise', 'auburn', 'maple', 'Dark Sapphire', 'burnt sienna'}\n",
      "scarf {'gunmetal blue', 'aqua', 'fuchsia', 'cerise', 'auburn', 'maple', 'Dark Sapphire', 'burnt sienna'}\n",
      "scarf {'gunmetal blue', 'aqua', 'fuchsia', 'cerise', 'auburn', 'maple', 'Dark Sapphire', 'burnt sienna'}\n",
      "scarf {'gunmetal blue', 'aqua', 'fuchsia', 'cerise', 'auburn', 'maple', 'Dark Sapphire', 'burnt sienna'}\n",
      "scarf {'gunmetal blue', 'aqua', 'fuchsia', 'cerise', 'auburn', 'maple', 'Dark Sapphire', 'burnt sienna'}\n",
      "stole {'gunmetal blue', 'aqua', 'fuchsia', 'cerise', 'auburn', 'maple', 'Dark Sapphire', 'burnt sienna'}\n",
      "stole {'gunmetal blue', 'aqua', 'fuchsia', 'cerise', 'auburn', 'maple', 'Dark Sapphire', 'burnt sienna'}\n",
      "stole {'gunmetal blue', 'aqua', 'fuchsia', 'cerise', 'auburn', 'maple', 'Dark Sapphire', 'burnt sienna'}\n",
      "stole {'gunmetal blue', 'aqua', 'fuchsia', 'cerise', 'auburn', 'maple', 'Dark Sapphire', 'burnt sienna'}\n",
      "stole {'gunmetal blue', 'aqua', 'fuchsia', 'cerise', 'auburn', 'maple', 'Dark Sapphire', 'burnt sienna'}\n",
      "stole {'gunmetal blue', 'aqua', 'fuchsia', 'cerise', 'auburn', 'maple', 'Dark Sapphire', 'burnt sienna'}\n",
      "stole {'gunmetal blue', 'aqua', 'fuchsia', 'cerise', 'auburn', 'maple', 'Dark Sapphire', 'burnt sienna'}\n",
      "stole {'gunmetal blue', 'aqua', 'fuchsia', 'cerise', 'auburn', 'maple', 'Dark Sapphire', 'burnt sienna'}\n"
     ]
    }
   ],
   "source": [
    "#Question 4: Write a nested loop that prints out every piece of clothing from the couture list, in every fashionable color from the panettone set:\n",
    "\n",
    "couture_list = ['trousers', 'blouse', 'bandana', 'cumber band', 'blazer', 'vest', 'french beret', 'scarf', 'stole']\n",
    "panettone_set = {\"cerise\", \"fuchsia\", \"aqua\", \"maple\", \"auburn\", \"burnt sienna\", \"gunmetal blue\", \"Dark Sapphire\"}\n",
    "\n",
    "for couture_piece in couture_list:\n",
    "    for panettone_piece in panettone_set:\n",
    "        print(couture_piece, panettone_set)\n",
    "        \n",
    "\n"
   ]
  },
  {
   "cell_type": "code",
   "execution_count": 23,
   "metadata": {},
   "outputs": [
    {
     "name": "stdout",
     "output_type": "stream",
     "text": [
      "5050\n"
     ]
    }
   ],
   "source": [
    "# Question 5: Use range as a loop to calculate the sum of all the numbers from 1 to 100\n",
    "\n",
    "total = 0\n",
    "for i in range(1, 101):\n",
    "    total+=i\n",
    "print(total)\n",
    "\n"
   ]
  },
  {
   "cell_type": "code",
   "execution_count": 1,
   "metadata": {},
   "outputs": [
    {
     "name": "stdout",
     "output_type": "stream",
     "text": [
      "5050\n"
     ]
    }
   ],
   "source": [
    "# Question 5\n",
    "\n",
    "range_total  = 0\n",
    "\n",
    "for range_values in range(101):\n",
    "    range_total += range_values\n",
    "\n",
    "print(range_total)"
   ]
  },
  {
   "cell_type": "code",
   "execution_count": 57,
   "metadata": {},
   "outputs": [
    {
     "name": "stdout",
     "output_type": "stream",
     "text": [
      "banana\n"
     ]
    }
   ],
   "source": [
    "# Question 6: Print the second item in this fruits list. [\"apple\", \"banana\", \"cherry\"]\n",
    "\n",
    "fruits_list = [\"apple\", \"banana\", \"cherry\"]\n",
    "print(fruits_list[1])"
   ]
  },
  {
   "cell_type": "code",
   "execution_count": 59,
   "metadata": {},
   "outputs": [
    {
     "name": "stdout",
     "output_type": "stream",
     "text": [
      "['kiwi', 'banana', 'cherry']\n"
     ]
    }
   ],
   "source": [
    "# Question 7: Change the value from \"apple\" to \"kiwi\", in the fruits list. [\"apple\", \"banana\", \"cherry\"]\n",
    "fruits_list[0] = \"kiwi\"\n",
    "print(fruits_list)\n"
   ]
  },
  {
   "cell_type": "code",
   "execution_count": 60,
   "metadata": {},
   "outputs": [
    {
     "name": "stdout",
     "output_type": "stream",
     "text": [
      "['kiwi', 'banana', 'cherry', 'orange']\n"
     ]
    }
   ],
   "source": [
    "# Question 8: Use the append method to add \"orange\" to the fruits list\n",
    "\n",
    "fruits_list.append(\"orange\")\n",
    "print(fruits_list)"
   ]
  },
  {
   "cell_type": "code",
   "execution_count": 61,
   "metadata": {},
   "outputs": [
    {
     "name": "stdout",
     "output_type": "stream",
     "text": [
      "['kiwi', 'lemon', 'banana', 'cherry', 'orange']\n"
     ]
    }
   ],
   "source": [
    "# Question 9: Use the insert method to add \"lemon\" as the second item in the fruits list.\n",
    "fruits_list.insert(1, \"lemon\")\n",
    "print(fruits_list)"
   ]
  },
  {
   "cell_type": "code",
   "execution_count": 62,
   "metadata": {},
   "outputs": [
    {
     "name": "stdout",
     "output_type": "stream",
     "text": [
      "['kiwi', 'lemon', 'cherry', 'orange']\n"
     ]
    }
   ],
   "source": [
    "# Question 10: Use the remove method to remove \"banana\" from the fruits list.\n",
    "fruits_list.remove(\"banana\")\n",
    "print(fruits_list)"
   ]
  },
  {
   "cell_type": "code",
   "execution_count": 74,
   "metadata": {},
   "outputs": [
    {
     "name": "stdout",
     "output_type": "stream",
     "text": [
      "kiwi melon\n"
     ]
    }
   ],
   "source": [
    "# Question 11: Use negative indexing to print the 3rd and 2nd to last items in the list.\n",
    "new_fruits_list = [\"apple\", \"banana\", \"cherry\", \"orange\", \"kiwi\", \"melon\", \"mango\"]\n",
    "print(new_fruits_list [-3], new_fruits_list [-2])"
   ]
  },
  {
   "cell_type": "code",
   "execution_count": 77,
   "metadata": {},
   "outputs": [
    {
     "name": "stdout",
     "output_type": "stream",
     "text": [
      "['cherry', 'orange', 'kiwi']\n"
     ]
    }
   ],
   "source": [
    "# Question 12: Use a range of indexes to print the third, fourth, and fifth item in the list.\n",
    "print(new_fruits_list[2:5])"
   ]
  },
  {
   "cell_type": "code",
   "execution_count": 78,
   "metadata": {},
   "outputs": [
    {
     "name": "stdout",
     "output_type": "stream",
     "text": [
      "7\n"
     ]
    }
   ],
   "source": [
    "# Question 13: Use the correct syntax to print the number of items in the list.\n",
    "print(len(new_fruits_list))"
   ]
  },
  {
   "cell_type": "code",
   "execution_count": 80,
   "metadata": {},
   "outputs": [
    {
     "name": "stdout",
     "output_type": "stream",
     "text": [
      "['orange', 'melon', 'mango', 'kiwi', 'cherry', 'banana', 'apple']\n"
     ]
    }
   ],
   "source": [
    "# Question 14: Use the correct syntax to sort this list in reverse order\n",
    "new_fruits_list.sort(reverse=True)\n",
    "print(new_fruits_list)"
   ]
  },
  {
   "attachments": {},
   "cell_type": "markdown",
   "metadata": {},
   "source": [
    "1. What does one need to do to use a module?\n",
    "    A module is basically a bunch of related code saved in a file with the extension \".py\".\n",
    "\n",
    "2. Name a Module (not the DateTime Nodule) we looked at and write a line or 2 of code as an example using this module.\n",
    "    Random Module\n",
    "    Example:\n",
    "\n",
    "    import random\n",
    "    list1 = [1, 2, 3, 4, 5, 6]\n",
    "    print(random.choice(list1))\n",
    "\n",
    "3. What is a benefit of using Exception handling?\n",
    "    Allows you to identify errors in your code. Helps with debugging.\n",
    "\n",
    "4. what are the 4 components used for Python Exception Handling?\n",
    "    try\n",
    "    except\n",
    "    else\n",
    "    finally \n",
    "\n",
    "5. NumPy arrays are like what Python data type?\n",
    "    Lists\n",
    "\n",
    "6. What is one of the main benefits of using NumPy arrays.\n",
    "    Occupy less memory\n",
    "    Faster\n",
    "    More convenient\n",
    "\n",
    "7. What is one of the main requirements about the 'dtype' of NumPy arrays?\n",
    "    You must specify the data type of an array\n",
    "\n",
    "8. Of the 10 uses of NumPy, name 2.\n",
    "    Maintain minimal memory\n",
    "    Alternative for lists\n",
    "\n",
    "9. Name one of the other libraries we'll use with NumPy?\n",
    "    Pandas\n",
    "\n",
    "10. What is the shape of NumPy arrays?\n",
    "    The shape is a tuple of non-negative integers that specify the dimensions, length and size of each array.\n",
    "\n",
    "11. What is a Tensor?\n",
    "    An array with 3+ dimensions\n",
    "\n",
    "12. Name a reason why it's better using NumPy for Data Analysis than using a Python List?\n",
    "    The combination of NumPy with other libraries implements a variety of Data Science and Analytics utilities for data wrangling and visualizations etc.\n",
    "    Also;\n",
    "    Occupy less memory\n",
    "    Faster\n",
    "    More convenient\n",
    "\n",
    "13. When creating an \"empty\" array, where do the elements come from?\n",
    "    Random"
   ]
  },
  {
   "cell_type": "code",
   "execution_count": 108,
   "metadata": {},
   "outputs": [
    {
     "name": "stdout",
     "output_type": "stream",
     "text": [
      "2023-05-15 18:30:14.361399\n",
      "May\n"
     ]
    }
   ],
   "source": [
    "# Use the DateTime module to get Current Date and Time, and save it to a variable. Then extract just the Full month name form that variable.\n",
    "\n",
    "import datetime as dt\n",
    "a = dt.datetime.now()\n",
    "print(a)\n",
    "\n",
    "def my_message(monthName):\n",
    "\n",
    "    print(monthName)\n",
    "\n",
    "my_message(\"May\")\n",
    "\n",
    "\n"
   ]
  },
  {
   "cell_type": "code",
   "execution_count": 132,
   "metadata": {},
   "outputs": [
    {
     "name": "stdout",
     "output_type": "stream",
     "text": [
      "Hi Jamal ! Happy Sunday !\n"
     ]
    }
   ],
   "source": [
    "# Write a simple function that takes 2 parameters -- a first name and a day name.\n",
    "\n",
    "import datetime as dt\n",
    "\n",
    "def my_message(firstName, dayName):\n",
    "\n",
    "    print(\"Hi\", firstName,\"! \" \"Happy\", dayName, \"!\")\n",
    "\n",
    "my_message(\"Jamal\", \"Sunday\")\n"
   ]
  },
  {
   "cell_type": "code",
   "execution_count": 148,
   "metadata": {},
   "outputs": [
    {
     "name": "stdout",
     "output_type": "stream",
     "text": [
      "An exception occurred\n",
      "homework\n",
      "what homework?\n",
      "Nothing went wrong\n"
     ]
    }
   ],
   "source": [
    "# Write a block of code to handle one of the most common Python exception errors. Select one of the common errors from the curriculum section on Python Exception handling. \n",
    "\n",
    "try:\n",
    "    range(test)\n",
    "except:\n",
    "    print(\"An exception occurred\")\n",
    "\n",
    "try: \n",
    "    print(\"homework\")\n",
    "except:\n",
    "    print(\"excuses\")\n",
    "else:\n",
    "    print(\"what homework?\")\n",
    "\n",
    "try: \n",
    "    range(1,10)\n",
    "finally:\n",
    "    print(\"Nothing went wrong\")\n",
    "\n"
   ]
  }
 ],
 "metadata": {
  "kernelspec": {
   "display_name": "Python 3",
   "language": "python",
   "name": "python3"
  },
  "language_info": {
   "codemirror_mode": {
    "name": "ipython",
    "version": 3
   },
   "file_extension": ".py",
   "mimetype": "text/x-python",
   "name": "python",
   "nbconvert_exporter": "python",
   "pygments_lexer": "ipython3",
   "version": "3.11.3"
  },
  "orig_nbformat": 4
 },
 "nbformat": 4,
 "nbformat_minor": 2
}
