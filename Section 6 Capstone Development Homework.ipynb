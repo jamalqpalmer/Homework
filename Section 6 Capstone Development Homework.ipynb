{
 "cells": [
  {
   "attachments": {},
   "cell_type": "markdown",
   "metadata": {},
   "source": [
    "Problem Statement\n",
    "    \n",
    "This study was designed to determine the relationship between the Point-in-Time (PIT) homeless count and the Housing Inventory Count (HIC). I want to understand;\n",
    "* What impact does the HIC have on overall homelessness.\n",
    "* Which populations are most influenced by the current sheltering options.\n",
    "* Which communities (cities, towns, counties, states) are most at risk of homelessness. \n",
    "\n",
    "Context Each year, the U.S. Department of Housing and Urban Development (HUD) releases an annual report to Congress estimating total homelessness. As homeless counts continue to rise so does its funding. But why? Why do we continue to spend if lack of funding isn't the root cause? I try to understand this dilemma by evaluating the most fundamental need for the homeless, shelter. Using the HIC I plan to determine the efficiency in which the current service available are being rendered. \n"
   ]
  },
  {
   "cell_type": "code",
   "execution_count": 1,
   "metadata": {},
   "outputs": [
    {
     "ename": "SyntaxError",
     "evalue": "(unicode error) 'unicodeescape' codec can't decode bytes in position 2-3: truncated \\UXXXXXXXX escape (556614100.py, line 3)",
     "output_type": "error",
     "traceback": [
      "\u001b[1;36m  Cell \u001b[1;32mIn[1], line 3\u001b[1;36m\u001b[0m\n\u001b[1;33m    HIC_Count_By_CoC = pd.ExcelFile('C:\\Users\\jamal\\Code\\SavvyCoders\\Capstone\\Datasets - HIC Counts-by-CoC')\u001b[0m\n\u001b[1;37m                                                                                                           ^\u001b[0m\n\u001b[1;31mSyntaxError\u001b[0m\u001b[1;31m:\u001b[0m (unicode error) 'unicodeescape' codec can't decode bytes in position 2-3: truncated \\UXXXXXXXX escape\n"
     ]
    }
   ],
   "source": [
    "# Datasets\n",
    "import pandas as pd\n",
    "HIC_Count_By_CoC = pd.ExcelFile('C:\\Users\\jamal\\Code\\SavvyCoders\\Capstone\\Datasets - HIC Counts-by-CoC')\n",
    "print(HIC_Count_By_CoC)"
   ]
  },
  {
   "attachments": {},
   "cell_type": "markdown",
   "metadata": {},
   "source": [
    "Methodology\n",
    "\n",
    "Step 1: Data Collection\n",
    "* Both data sets are sourced from HUD's website and available as xlsx file types.\n",
    "* Create quick basic charts for my own reference.\n",
    "* Compare the the number of homeless counts and their associated housing options. \n",
    "\n",
    "Step 2: Data Structuring\n",
    "* Rename and reorganize values and columns.\n",
    "* Import excel files to SQL.\n",
    "\n",
    "Step 3: Data Cleaning\n",
    "* Remove any wanted values or columns.\n",
    "\n",
    "Step 4: Data Analysis\n",
    "* Create descriptive statistic tables via SQL.\n",
    "* Implement linear regression via Python. \n",
    "    * HIC = inpendent variable (X).\n",
    "    * PIT Count = dependent variable (Y).\n",
    "\n",
    "Step 5: Data Visualization\n",
    "* Develope charts to illustrate my research.\n",
    "* Present real time images to demonstrate the practicality behind my study.\n",
    "* Reveal my findings via Tableau\n",
    "\n",
    "\n"
   ]
  }
 ],
 "metadata": {
  "kernelspec": {
   "display_name": "Python 3",
   "language": "python",
   "name": "python3"
  },
  "language_info": {
   "codemirror_mode": {
    "name": "ipython",
    "version": 3
   },
   "file_extension": ".py",
   "mimetype": "text/x-python",
   "name": "python",
   "nbconvert_exporter": "python",
   "pygments_lexer": "ipython3",
   "version": "3.11.3"
  },
  "orig_nbformat": 4
 },
 "nbformat": 4,
 "nbformat_minor": 2
}
