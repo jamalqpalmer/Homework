{
 "cells": [
  {
   "attachments": {},
   "cell_type": "markdown",
   "metadata": {},
   "source": [
    "1. What does Pandas stand for?\n",
    "\n",
    "    References both “Panel Data” and “Python Data Analysis”\n",
    "\n",
    "2. What are the 2 collections used in Pandas?\n",
    "\n",
    "    DataFrame and Series\n",
    "\n",
    "3. Name 4 things Pandas can do for us.\n",
    "\n",
    "    load\n",
    "    manipulate\n",
    "    prepare\n",
    "    model\n",
    "\n",
    "4. To permanently sort a DataFrame, which keyword should one use with the df.sort() method?\n",
    "\n",
    "    inplace\n",
    "\n",
    "5. What is a CSV?\n",
    "\n",
    "    Comma Seperated Files which contain plain text and is a well know format that can be read by everyone including Pandas.\n",
    "\n",
    "6. When cleaning data what values do we not like in our data?\n",
    "\n",
    "    Null values"
   ]
  },
  {
   "cell_type": "code",
   "execution_count": 13,
   "metadata": {},
   "outputs": [
    {
     "name": "stdout",
     "output_type": "stream",
     "text": [
      "[[[ 1  2]\n",
      "  [ 3  4]\n",
      "  [ 5  6]]\n",
      "\n",
      " [[ 7  8]\n",
      "  [ 9 10]\n",
      "  [11 12]]]\n"
     ]
    }
   ],
   "source": [
    "#7 Import NumPy, use one of the NumPy methods and create an array with a shape of ... (2, 3, 2). You can use the reshape method -- .reshape()\n",
    "\n",
    "import numpy as np\n",
    "\n",
    "array = np.array([1, 2, 3, 4, 5, 6, 7, 8, 9, 10, 11, 12])\n",
    "\n",
    "newarray = array.reshape(2, 3, 2)\n",
    "\n",
    "print(newarray)"
   ]
  },
  {
   "cell_type": "code",
   "execution_count": 14,
   "metadata": {},
   "outputs": [
    {
     "name": "stdout",
     "output_type": "stream",
     "text": [
      "[ 0.  4.  8. 12. 16. 20.]\n"
     ]
    }
   ],
   "source": [
    "#8 Use NumPy .linspace() to create an array with 6 linearly spaced values between 0 and 20\n",
    "\n",
    "import numpy as np\n",
    "array = np.linspace(0, 20, num=6)\n",
    "print(array)\n"
   ]
  },
  {
   "cell_type": "code",
   "execution_count": 17,
   "metadata": {},
   "outputs": [
    {
     "name": "stdout",
     "output_type": "stream",
     "text": [
      "[ 0.          0.40816327  0.81632653  1.2244898   1.63265306  2.04081633\n",
      "  2.44897959  2.85714286  3.26530612  3.67346939  4.08163265  4.48979592\n",
      "  4.89795918  5.30612245  5.71428571  6.12244898  6.53061224  6.93877551\n",
      "  7.34693878  7.75510204  8.16326531  8.57142857  8.97959184  9.3877551\n",
      "  9.79591837 10.20408163 10.6122449  11.02040816 11.42857143 11.83673469\n",
      " 12.24489796 12.65306122 13.06122449 13.46938776 13.87755102 14.28571429\n",
      " 14.69387755 15.10204082 15.51020408 15.91836735 16.32653061 16.73469388\n",
      " 17.14285714 17.55102041 17.95918367 18.36734694 18.7755102  19.18367347\n",
      " 19.59183673 20.        ]\n",
      "[ 0.          0.40816327  0.81632653  1.2244898   1.63265306  2.04081633\n",
      "  2.44897959  2.85714286  3.26530612  3.67346939  4.08163265  4.48979592\n",
      "  4.89795918  5.30612245  5.71428571  6.12244898  6.53061224  6.93877551\n",
      "  7.34693878  7.75510204  8.16326531  8.57142857  8.97959184  9.3877551\n",
      "  9.79591837 10.20408163 10.6122449  11.02040816 11.42857143 11.83673469\n",
      " 12.24489796 12.65306122 13.06122449 13.46938776 13.87755102 14.28571429\n",
      " 14.69387755 15.10204082 15.51020408 15.91836735 16.32653061 16.73469388\n",
      " 17.14285714 17.55102041 17.95918367 18.36734694 18.7755102  19.18367347\n",
      " 19.59183673 20.        ]\n"
     ]
    }
   ],
   "source": [
    "#9 Make a Deep Copy of the above array\n",
    "import numpy as np\n",
    "import copy\n",
    "\n",
    "array = np.linspace(0, 20)\n",
    "print(array)\n",
    "copied_array = copy.deepcopy(array)\n",
    "print(copied_array)\n"
   ]
  },
  {
   "cell_type": "code",
   "execution_count": 30,
   "metadata": {},
   "outputs": [
    {
     "name": "stdout",
     "output_type": "stream",
     "text": [
      "[[25 16]\n",
      " [11  2]\n",
      " [13  4]\n",
      " [ 7 81]\n",
      " [ 5  6]\n",
      " [11 12]]\n"
     ]
    }
   ],
   "source": [
    "#11 Concatenate these 3 arrays into a new array named 'newArray'...\n",
    "\n",
    "array1 = np.array([[25, 16]])\n",
    "array2 = np.array([[11, 2], [13, 4]])\n",
    "array3 = np.array([[7, 81], [5, 6], [11, 12]])\n",
    "newArray= np.concatenate((array1,array2,array3))\n",
    "print(newArray)\n"
   ]
  },
  {
   "cell_type": "code",
   "execution_count": 35,
   "metadata": {},
   "outputs": [
    {
     "name": "stdout",
     "output_type": "stream",
     "text": [
      "[[16 25]\n",
      " [ 2 11]\n",
      " [ 4 13]\n",
      " [ 7 81]\n",
      " [ 5  6]\n",
      " [11 12]]\n"
     ]
    }
   ],
   "source": [
    "#12 Sort 'newArray' in order into 'sortedArray'\n",
    "newArray= np.concatenate((array1,array2,array3))\n",
    "sortedArray=np.sort(newArray)\n",
    "print(sortedArray)"
   ]
  },
  {
   "cell_type": "code",
   "execution_count": 39,
   "metadata": {},
   "outputs": [
    {
     "name": "stdout",
     "output_type": "stream",
     "text": [
      "[[[16 25  2]\n",
      "  [11  4 13]]\n",
      "\n",
      " [[ 7 81  5]\n",
      "  [ 6 11 12]]]\n"
     ]
    }
   ],
   "source": [
    "#13 Reshape the 'sortedArray' array, into a new array called 'reshapedArray', so it has 2 dimensions with a size of 2, 3.\n",
    "\n",
    "reshapedArray = sortedArray.reshape(2, 2, 3)\n",
    "print(reshapedArray)"
   ]
  },
  {
   "cell_type": "code",
   "execution_count": 43,
   "metadata": {},
   "outputs": [
    {
     "name": "stdout",
     "output_type": "stream",
     "text": [
      "[16 25  2]\n",
      "[11  4 13]\n",
      "[ 7 81  5]\n",
      "[ 6 11 12]\n"
     ]
    }
   ],
   "source": [
    "#14 Unpack the array tuples from the above 'reshapedArray' into 4 well named variables. Print the 4 variables.\n",
    "\n",
    "first, second, = reshapedArray\n",
    "first1, first2 = first\n",
    "second1, second2 =second\n",
    "print(first1)\n",
    "print(first2)\n",
    "print(second1)\n",
    "print(second2)\n"
   ]
  },
  {
   "cell_type": "code",
   "execution_count": 11,
   "metadata": {},
   "outputs": [
    {
     "name": "stdout",
     "output_type": "stream",
     "text": [
      "[ 0  1  2  3  4  5  6  7 10 11 12 13 14 15 16 17 20 21 22 23 24 25 26 27]\n"
     ]
    }
   ],
   "source": [
    "#15 Combined and sort the following arrays into one called 'comboArray' ...\n",
    "\n",
    "import numpy as np\n",
    "\n",
    "one = np.array([10, 11, 12, 13, 14, 15, 16, 17])\n",
    "two = np.array([20, 21, 22, 23, 24, 25, 26, 27])\n",
    "three = np.array([ 0, 1, 2, 3, 4, 5, 6, 7])\n",
    "\n",
    "conArray= np.concatenate((one,two,three))\n",
    "comboArray= np.sort(conArray)\n",
    "print(comboArray)"
   ]
  },
  {
   "cell_type": "code",
   "execution_count": 12,
   "metadata": {},
   "outputs": [
    {
     "name": "stdout",
     "output_type": "stream",
     "text": [
      "1\n",
      "[ 2  3  4  5  6  7 10 11 12 13 14 15 16 17 20 21 22 23 24 25 26 27]\n",
      "[ 3  4  5  6  7 10 11 12 13 14 15 16]\n",
      "[22 23 24 25 26 27]\n",
      "[ 0  1  2  3  4  5  6  7 10 11 12 13 14 15]\n",
      "[20 22 24 26]\n",
      "[27 22 15 10  3]\n"
     ]
    }
   ],
   "source": [
    "#16 Take 'comboArray' and perform the following slicing activities:\n",
    "\n",
    "sec1 = comboArray[1]\n",
    "print(sec1)\n",
    "\n",
    "sec2 = comboArray[2:]\n",
    "print(sec2)\n",
    "\n",
    "sec3 = comboArray[3:15]\n",
    "print(sec3)\n",
    "\n",
    "sec4 = comboArray[-6:]\n",
    "print(sec4)\n",
    "\n",
    "sec5 = comboArray[0:-10]\n",
    "print(sec5)\n",
    "\n",
    "sec6 = comboArray[16::2]\n",
    "print(sec6)\n",
    "\n",
    "sec7 = comboArray[::-5]\n",
    "print(sec7)"
   ]
  },
  {
   "cell_type": "code",
   "execution_count": 58,
   "metadata": {},
   "outputs": [
    {
     "name": "stdout",
     "output_type": "stream",
     "text": [
      "  Ingredients  Quanitity   Unit\n",
      "0       flour          4   cups\n",
      "1        milk          1    cup\n",
      "2        eggs          2  large\n",
      "3        spam          1    can\n"
     ]
    }
   ],
   "source": [
    "#20 Using Series, create a DataFrame that looks like this:\n",
    "\n",
    "import pandas as pd\n",
    "\n",
    "ingredients = pd.Series(['flour', 'milk', 'eggs', 'spam'], name = 'Ingredients')\n",
    "quantity = pd.Series([4,1,2,1], name = 'Quanitity')\n",
    "unit = pd.Series(['cups', 'cup', 'large', 'can'], name = 'Unit')\n",
    "\n",
    "Dinner = pd.concat([ingredients, quantity, unit], axis = 1)\n",
    "print(Dinner)\n"
   ]
  },
  {
   "cell_type": "code",
   "execution_count": 61,
   "metadata": {},
   "outputs": [
    {
     "name": "stdout",
     "output_type": "stream",
     "text": [
      "      Name  Height Qualification  address  Age        Pets           sport\n",
      "0      Jai     5.1           Msc    Delhi   21         Dog           Darts\n",
      "1  janusha     6.2            MA     Doha   23       Bunny      Basketball\n",
      "2   Gaurav     5.1           Msc  Chennai   24  Chinchilla  PaddleBoarding\n",
      "3     Anuj     5.2           Msc   Dakhar   21      Parrot         Cricket\n"
     ]
    }
   ],
   "source": [
    "#21 Take this data and create a DataFrame named studentData\n",
    "\n",
    "import pandas as pd\n",
    "\n",
    "studentData = pd.DataFrame ({'Name': ['Jai', 'janusha', 'Gaurav', 'Anuj'],\n",
    "        'Height': [5.1, 6.2, 5.1, 5.2],\n",
    "        'Qualification': ['Msc', 'MA', 'Msc', 'Msc'],\n",
    "        'address': ['Delhi', 'Doha', 'Chennai', 'Dakhar'],\n",
    "        'Age': [21, 23, 24, 21],\n",
    "        'Pets': ['Dog', 'Bunny', 'Chinchilla', 'Parrot'],\n",
    "        'sport': ['Darts', 'Basketball', 'PaddleBoarding', 'Cricket']\n",
    "    }\n",
    ")\n",
    "\n",
    "print(studentData)"
   ]
  },
  {
   "cell_type": "code",
   "execution_count": 64,
   "metadata": {},
   "outputs": [
    {
     "name": "stdout",
     "output_type": "stream",
     "text": [
      "      Name  Height Qualification  address  Age        Pets           sport   \n",
      "0      Jai     5.1           Msc    Delhi   21         Dog           Darts  \\\n",
      "1  janusha     6.2            MA     Doha   23       Bunny      Basketball   \n",
      "2   Gaurav     5.1           Msc  Chennai   24  Chinchilla  PaddleBoarding   \n",
      "3     Anuj     5.2           Msc   Dakhar   21      Parrot         Cricket   \n",
      "\n",
      "        deserts       deserts  \n",
      "0     ice cream     ice cream  \n",
      "1  cashew fudge  cashew fudge  \n",
      "2       waffles       waffles  \n",
      "3  carrot halwa  carrot halwa  \n"
     ]
    }
   ],
   "source": [
    "#22 Add a new column to the DataFrame with the following deserts: [\"ice cream\", \"Cashew Fudge\", \"waffels\", \"Carrot Halwa\"]\n",
    "\n",
    "studentData.insert(7, 'deserts', ['ice cream', 'cashew fudge', 'waffles', 'carrot halwa'], True )\n",
    "print(studentData)\n"
   ]
  },
  {
   "cell_type": "code",
   "execution_count": 65,
   "metadata": {},
   "outputs": [
    {
     "name": "stdout",
     "output_type": "stream",
     "text": [
      "      Name  Height Qualification  address  Age        Pets           sport   \n",
      "3     Anuj     5.2           Msc   Dakhar   21      Parrot         Cricket  \\\n",
      "2   Gaurav     5.1           Msc  Chennai   24  Chinchilla  PaddleBoarding   \n",
      "0      Jai     5.1           Msc    Delhi   21         Dog           Darts   \n",
      "1  janusha     6.2            MA     Doha   23       Bunny      Basketball   \n",
      "\n",
      "        deserts       deserts  \n",
      "3  carrot halwa  carrot halwa  \n",
      "2       waffles       waffles  \n",
      "0     ice cream     ice cream  \n",
      "1  cashew fudge  cashew fudge  \n"
     ]
    }
   ],
   "source": [
    "#23 Sort the 'studentData' DataFrame in Ascending order -- Sorting by column 'Name' and then \"address\"\n",
    "\n",
    "studentData.sort_values(by = ['Name', 'address'], inplace = True)\n",
    "print(studentData)"
   ]
  },
  {
   "cell_type": "code",
   "execution_count": 66,
   "metadata": {},
   "outputs": [],
   "source": [
    "#24 Save this DataFrame here below to disc as a .CSV file with the name cows_and_goats.csv:\n",
    "\n",
    "df = pd.DataFrame({'Cows': [12, 20], 'Goats': [22, 19]}, index=['Year 1', 'Year 2'])\n",
    "df.to_csv('cows_and_goats.csv')"
   ]
  },
  {
   "cell_type": "code",
   "execution_count": 2,
   "metadata": {},
   "outputs": [
    {
     "name": "stdout",
     "output_type": "stream",
     "text": [
      "               0 Flavor\n",
      "Red      Peppers  Spicy\n",
      "Yellow      Corn  Sweet\n",
      "Green   Broccoli  Bland\n",
      "Purple  Eggplant  Bland\n"
     ]
    }
   ],
   "source": [
    "#25 (A) Using Pandas, make your own .CSV file with data on vegetables and save it. \n",
    "\n",
    "import pandas as pd\n",
    "vegetables = pd.DataFrame(['Peppers', 'Corn', 'Broccoli', 'Eggplant'], \n",
    "                          ['Red', 'Yellow', 'Green', 'Purple'])\n",
    "\n",
    "flavor = pd.Series(['Spicy', 'Sweet', 'Bland', 'Bland'])\n",
    "\n",
    "vegetables.loc[:, ['Flavor']] = ['Spicy', 'Sweet', 'Bland', 'Bland']\n",
    "\n",
    "print(vegetables)\n",
    "\n",
    "vegetables.to_csv('vegetables')\n"
   ]
  },
  {
   "cell_type": "code",
   "execution_count": 16,
   "metadata": {},
   "outputs": [
    {
     "name": "stdout",
     "output_type": "stream",
     "text": [
      "  Unnamed: 0         0 Flavor\n",
      "0        Red   Peppers  Spicy\n",
      "1     Yellow      Corn  Sweet\n",
      "2      Green  Broccoli  Bland\n",
      "3     Purple  Eggplant  Bland\n",
      "               0\n",
      "Red      Peppers\n",
      "Yellow      Corn\n",
      "Green   Broccoli\n",
      "Purple  Eggplant\n"
     ]
    }
   ],
   "source": [
    "#25 (B) Using Pandas, make a change to your CSV file, and save a copy with a different name.\n",
    "\n",
    "import pandas as pd\n",
    "\n",
    "veggies=pd.read_csv('vegetables')\n",
    "print(veggies)\n",
    "veggies = pd.DataFrame(['Peppers', 'Corn', 'Broccoli', 'Eggplant'], \n",
    "                          ['Red', 'Yellow', 'Green', 'Purple'])\n",
    "veggies= veggies.replace(to_replace='Bland',value=\"gross\")\n",
    "print(veggies)\n",
    "\n",
    "veggies.to_csv('veggies')"
   ]
  }
 ],
 "metadata": {
  "kernelspec": {
   "display_name": "Python 3",
   "language": "python",
   "name": "python3"
  },
  "language_info": {
   "codemirror_mode": {
    "name": "ipython",
    "version": 3
   },
   "file_extension": ".py",
   "mimetype": "text/x-python",
   "name": "python",
   "nbconvert_exporter": "python",
   "pygments_lexer": "ipython3",
   "version": "3.11.3"
  },
  "orig_nbformat": 4
 },
 "nbformat": 4,
 "nbformat_minor": 2
}
