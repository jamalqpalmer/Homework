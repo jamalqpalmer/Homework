{
 "cells": [
  {
   "attachments": {},
   "cell_type": "markdown",
   "metadata": {},
   "source": [
    "Question 1: Using EVregistry, Write a query to select the ModelYear, Make, and Model off all of the vehicles in the registry.\n",
    "\n",
    "SELECT ModelYear, Make, Model\n",
    "FROM EVRegistry\n"
   ]
  },
  {
   "attachments": {},
   "cell_type": "markdown",
   "metadata": {},
   "source": [
    "Question 2: Using the EVRegistry table, Write a query that lists all of the unique types of EV's. your reult set should have one column, ElectricVehicleType.\n",
    "\n",
    "SELECT DISTINCT ElectricVehicleType\n",
    "FROM EVRegistry"
   ]
  },
  {
   "attachments": {},
   "cell_type": "markdown",
   "metadata": {},
   "source": [
    "Question 3: Using the EVRegistry, Write a query that shows all of the information on Battery Electric Vehicles (BEV) that are in the registry.\n",
    "\n",
    "SELECT ElectricVehicleType\n",
    "FROM EVRegistry\n",
    "WHERE ElectricVehicleType = 'Battery Electric Vehicle (BEV)'"
   ]
  },
  {
   "attachments": {},
   "cell_type": "markdown",
   "metadata": {},
   "source": [
    "Question 4: Using the EVRegistry, wirte a query that returns the Make and Model of all of the EV's that have a BaseMSRP between 20000 and 35000?\n",
    "\n",
    "SELECT MAKE, MODEL\n",
    "FROM EVRegistry\n",
    "WHERE BaseMSRP BETWEEN 20000 AND 35000"
   ]
  },
  {
   "attachments": {},
   "cell_type": "markdown",
   "metadata": {},
   "source": [
    "Question 1: Using EVRegistry, write a query to find a record where the City attribute is NULL. Return all of the available columns.\n",
    "\n",
    "SELECT *\n",
    "FROM EVRegistry\n",
    "WHERE City IS NULL"
   ]
  },
  {
   "attachments": {},
   "cell_type": "markdown",
   "metadata": {},
   "source": [
    "Question 2: Write a query to find the make, model, and ElectricVehicleType where the VIN number has that ends in '3E1EA1J'.\n",
    "\n",
    "SELECT Make, Model,\tElectricVehicleType\n",
    "FROM EVRegistry\n",
    "WHERE VIN LIKE '%3E1EA1J'"
   ]
  },
  {
   "attachments": {},
   "cell_type": "markdown",
   "metadata": {},
   "source": [
    "Question 3: Select the ModelYear, make, model, ElectricVehicleType, and range of the Tesla vehicles or cheverolet vehicles in the registry. Order the result set by Make and Model year in from newest to oldest.\n",
    "\n",
    "SELECT ModelYear, Make, Model, ElectricVehicleType, ElectricRange\n",
    "FROM EVRegistry\n",
    "WHERE Make IS 'TESLA' OR 'CHEVROLET'\n",
    "ORDER BY ModelYear ASC"
   ]
  },
  {
   "attachments": {},
   "cell_type": "markdown",
   "metadata": {},
   "source": [
    "Question 4: Using EVCharging, Write a query to find out how many many times those stations were used. Order them by the most used to the least used and limit the output to 5 records.\n",
    "\n",
    "SELECT DISTINCT kwhTotal, chargeTimeHrs, chargeTimeMins\n",
    "FROM EVCharging\n",
    "ORDER BY kwhTotal DESC\n",
    "LIMIT 5\n"
   ]
  },
  {
   "attachments": {},
   "cell_type": "markdown",
   "metadata": {},
   "source": [
    "Question 5: Using EVCharging, For the folks who charged longer than 0.5 hours, show the min and max of the charging time for each user. Your output columns should be userid, minTime, and maxTime. Order this result set by the last two columns respectively.\n",
    "\n",
    "SELECT MIN(chargeTimeHrs) as 'minhours', MAX(chargeTimeHrs) as 'maxHours', userId\n",
    "FROM EVCharging\n",
    "WHERE chargeTimeHrs > .5\n",
    "ORDER BY 2"
   ]
  },
  {
   "attachments": {},
   "cell_type": "markdown",
   "metadata": {},
   "source": [
    "Question 1: Using EVCharging, Which day of the week has the highest average charging time? Round the answer to 2 decimal points.\n",
    "\n",
    "SELECT Weekday, ROUND(avg(chargeTimeHrs),2) as 'Highest AVG Charge Time'\n",
    "FROM EVcharging"
   ]
  },
  {
   "attachments": {},
   "cell_type": "markdown",
   "metadata": {},
   "source": [
    "Question 2: Using, EV charging, Find the total power consumed from charging EV's by each User. Return the userId and name the calculated column, totalPower. Round the answer to 2 deciaml points and list the out put in highest to lowest order. Limit the order to the top 15 users.\n",
    "\n",
    "SELECT UserId, ROUND(SUM(kwhTotal),2) as 'totalPower'\n",
    "FROM EVcharging\n",
    "GROUP BY userId\n",
    "ORDER BY totalpower DESC\n",
    "LIMIT 15"
   ]
  },
  {
   "attachments": {},
   "cell_type": "markdown",
   "metadata": {},
   "source": [
    "Question 3: Using dimfacility and factCharge, write a query to find out which type of facility (GROUP BY) has the most amount of charging stations. Return type Facility and name the calculated column numStation. Order the result set from highest to lowest number of charging stations.\n",
    "\n",
    "SELECT df.typeFacility, COUNT(*) as 'numStation'\n",
    "FROM factCharge a\n",
    "INNER JOIN dimFacility df on a.facilityID= df.FacilityKey\n",
    "GROUP BY df.typeFacility\n",
    "ORDER BY numStation DESC\n",
    "\n"
   ]
  },
  {
   "attachments": {},
   "cell_type": "markdown",
   "metadata": {},
   "source": [
    "Question 4: In your own words, Briefly explain Primary Keys and Foreign Keys.\n",
    "\n",
    "The primary key is how we can find every value in the table. They are how you can put tables together. \n",
    "\n",
    "The Foreign Key is a bookmark to reference the primary key in another table but cannot overtake the primary key. "
   ]
  },
  {
   "attachments": {},
   "cell_type": "markdown",
   "metadata": {},
   "source": [
    "Question 5: Using EV Charging, For the folks who charged longer than one hour, show the min and max of the charging time for each user. Your output columns should be userid, minTime, and maxTime. Order this result set by the last two columns respectively.\n",
    "\n",
    "SELECT userId, MIN(chargeTimeHrs) as 'minTime', MAX(chargeTimeHrs) as 'maxTime'\n",
    "FROM EVCharging\n",
    "GROUP BY userId\n",
    "HAVING minTime > 1\n",
    "ORDER BY 2 DESC;"
   ]
  }
 ],
 "metadata": {
  "language_info": {
   "name": "python"
  },
  "orig_nbformat": 4
 },
 "nbformat": 4,
 "nbformat_minor": 2
}
