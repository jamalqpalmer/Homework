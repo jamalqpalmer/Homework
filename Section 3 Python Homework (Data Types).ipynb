{
 "cells": [
  {
   "attachments": {},
   "cell_type": "markdown",
   "metadata": {},
   "source": [
    "1. An algorithm is a series of steps to solve a problem at hand.\n",
    "2. A variable name must start with a letter or the underscore character (_).\n",
    "3.\tCode is grammatically correct but doesn't make any sense; it does not produce the expected results.\n",
    "4.\tComplexity is the enemy of efficiency.\n",
    "5.\tNone, Else, Nonlocal, Elif, Except."
   ]
  },
  {
   "cell_type": "code",
   "execution_count": 6,
   "metadata": {
    "tags": [
     "Question 6."
    ]
   },
   "outputs": [
    {
     "name": "stdout",
     "output_type": "stream",
     "text": [
      "Jamal\n",
      "French Fries\n",
      "Sports Data Analyst\n"
     ]
    }
   ],
   "source": [
    "# Question 6\n",
    "me= \"Jamal\"\n",
    "print(me)\n",
    "favorite_food= \"French Fries\"\n",
    "print(favorite_food)\n",
    "dream_job= \"Sports Data Analyst\"\n",
    "print(dream_job)\n",
    "\n"
   ]
  },
  {
   "cell_type": "code",
   "execution_count": 7,
   "metadata": {},
   "outputs": [
    {
     "name": "stdout",
     "output_type": "stream",
     "text": [
      "23\n",
      "o\n"
     ]
    }
   ],
   "source": [
    "# Question 7\n",
    "me= \"Jamal\"\n",
    "new_number= int(29)\n",
    "greeting= \"Hello Savvy Instructors\"\n",
    "cities= (\"Denver\", \"Las Vegas\", \"Austin\", \"Nashville\")\n",
    "Who_Am_I= {me, new_number}\n",
    "tiredness= float(7.5)\n",
    "print(len(greeting))\n",
    "print(greeting[4])"
   ]
  },
  {
   "cell_type": "code",
   "execution_count": 27,
   "metadata": {},
   "outputs": [
    {
     "name": "stdout",
     "output_type": "stream",
     "text": [
      "ing Data Analytics\n",
      "Learning Data Analytics and Python is great!\n"
     ]
    }
   ],
   "source": [
    "# Question 8\n",
    "savvy= \"Learning Data Analytics and Python is Awesome!\"\n",
    "print(savvy[5:23])\n",
    "print(savvy.replace(\"Awesome\",\"great\"))\n"
   ]
  },
  {
   "cell_type": "code",
   "execution_count": 11,
   "metadata": {},
   "outputs": [
    {
     "name": "stdout",
     "output_type": "stream",
     "text": [
      "{'Hi my name is Jamal, I am 5 foot 11 and Jamal years old today'}\n"
     ]
    }
   ],
   "source": [
    "# Question 9\n",
    "name= \"Jamal\"\n",
    "age= \"29\"\n",
    "height= \"5 foot 11\"\n",
    "miniBio = {\"Hi my name is \" + name + \",\" + \" I am \" + height + \" \" \"and \" + name + \" years old today\"}\n",
    "print(miniBio)\n",
    "age = float(29)\n"
   ]
  },
  {
   "cell_type": "code",
   "execution_count": 45,
   "metadata": {},
   "outputs": [
    {
     "name": "stdout",
     "output_type": "stream",
     "text": [
      "['Richard', 'Eli', 'Marquise', 'Quan', 'Pete', 'Sam']\n",
      "6\n",
      "['Richard', 'Eli', 'Marquise']\n",
      "['Richard', 'Eli', 'Marquise', 'Angel', 'Kim']\n",
      "[1, 5, 10, 15, 25]\n",
      "<built-in method copy of list object at 0x0000023122694F80>\n"
     ]
    }
   ],
   "source": [
    "# Question 10\n",
    "friendList = [\"Richard\", \"Eli\", \"Marquise\", \"Quan\", \"Pete\"]\n",
    "friendList.append(\"Sam\")\n",
    "print(friendList)\n",
    "print(len(friendList))\n",
    "diffriendList = friendList[0:3]\n",
    "print(diffriendList)\n",
    "workfriendList = [\"Angel\", \"Kim\"]\n",
    "diffriendList.extend(workfriendList)\n",
    "print(diffriendList)\n",
    "simList = [1, 5, 10, 15, 25]\n",
    "list.sort(simList)\n",
    "print(simList)\n",
    "dupsimList = simList.copy\n",
    "print(dupsimList)\n",
    "\n"
   ]
  },
  {
   "cell_type": "code",
   "execution_count": 59,
   "metadata": {},
   "outputs": [
    {
     "name": "stdout",
     "output_type": "stream",
     "text": [
      "[[0, 25, 50, 75, 100, 0, 25, 50, 75, 100, 0, 25, 50, 75, 100]]\n"
     ]
    },
    {
     "ename": "TypeError",
     "evalue": "'list' object is not callable",
     "output_type": "error",
     "traceback": [
      "\u001b[1;31m---------------------------------------------------------------------------\u001b[0m",
      "\u001b[1;31mTypeError\u001b[0m                                 Traceback (most recent call last)",
      "Cell \u001b[1;32mIn[59], line 8\u001b[0m\n\u001b[0;32m      5\u001b[0m \u001b[39mlist\u001b[39m\u001b[39m.\u001b[39msort(tuplesecond)\n\u001b[0;32m      6\u001b[0m \u001b[39mprint\u001b[39m(tuplesecond)\n\u001b[1;32m----> 8\u001b[0m tuplethird\u001b[39m=\u001b[39m (tuplesecond(\u001b[39m4\u001b[39;49m))\n\u001b[0;32m      9\u001b[0m \u001b[39mprint\u001b[39m(tuplesecond[\u001b[39m4\u001b[39m])\n",
      "\u001b[1;31mTypeError\u001b[0m: 'list' object is not callable"
     ]
    }
   ],
   "source": [
    "# Question 11\n",
    "tuplefirst= [0, 25, 50, 75, 100]\n",
    "tuplesecond= [tuplefirst*3]\n",
    "\n",
    "list.sort(tuplesecond)\n",
    "print(tuplesecond)\n",
    "\n",
    "tuplethird= (tuplesecond(4))\n",
    "print(tuplesecond[4])\n",
    "\n"
   ]
  },
  {
   "cell_type": "code",
   "execution_count": 67,
   "metadata": {},
   "outputs": [
    {
     "name": "stdout",
     "output_type": "stream",
     "text": [
      "('Pears', ' Oranges', ' Apples')\n",
      "{'forks', 'knives', 'spoons'}\n",
      "{'Honda', 'forks', 'knives', 'spoons'}\n",
      "{' Keyboard', 'Door', 'knives', 'spoons', 'Honda', 'forks'}\n",
      "{'Door'}\n",
      "{' Keyboard', 'Door', 'knives', 'forks'}\n"
     ]
    }
   ],
   "source": [
    "# Question 12\n",
    "fruitList= (\"Pears\", \" Oranges\", \" Apples\")\n",
    "print(fruitList)\n",
    "firstSet= {\"knives\", \"forks\", \"spoons\"}\n",
    "print(firstSet)\n",
    "firstSet.add(\"Honda\")\n",
    "print(firstSet)\n",
    "secondSet= {\"Door\", \" Keyboard\"}\n",
    "union= firstSet.union(secondSet)\n",
    "print(union)\n",
    "secondSet.pop()\n",
    "print(secondSet)\n",
    "union.discard(\"Honda\")\n",
    "union.remove(\"spoons\")\n",
    "print(union)"
   ]
  },
  {
   "cell_type": "code",
   "execution_count": 74,
   "metadata": {},
   "outputs": [
    {
     "ename": "SyntaxError",
     "evalue": "invalid syntax (1897907753.py, line 4)",
     "output_type": "error",
     "traceback": [
      "\u001b[1;36m  Cell \u001b[1;32mIn[74], line 4\u001b[1;36m\u001b[0m\n\u001b[1;33m    \"State\": \"New Jersey\"\u001b[0m\n\u001b[1;37m           ^\u001b[0m\n\u001b[1;31mSyntaxError\u001b[0m\u001b[1;31m:\u001b[0m invalid syntax\n"
     ]
    }
   ],
   "source": [
    "# Question 13\n",
    "Dict = {\n",
    "    \"Team\": \"Devils\"\n",
    "    \"State\": \"New Jersey\"\n",
    "    \"MVP\": \"Jack Hughes\"\n",
    "    \"Year\": \"2023\"\n",
    "    \"Rival\": \"Rangers\"}\n",
    "print(Dict(\"Team\"))\n",
    "\n",
    "Dict.update({\"MVP\": \"Jamal\"})\n",
    "Dict.update({\"Color\" : \"Gray\"})\n",
    "Dict.update(fruitList)\n",
    "print(Dict.keys())\n",
    "print(Dict.values())\n",
    "\n",
    "secondDict = Dict.copy()\n",
    "secondDict.pop(\"Devils\")\n",
    "secondDict.clear()\n",
    "print(secondDict)\n",
    "\n"
   ]
  }
 ],
 "metadata": {
  "kernelspec": {
   "display_name": "Python 3",
   "language": "python",
   "name": "python3"
  },
  "language_info": {
   "codemirror_mode": {
    "name": "ipython",
    "version": 3
   },
   "file_extension": ".py",
   "mimetype": "text/x-python",
   "name": "python",
   "nbconvert_exporter": "python",
   "pygments_lexer": "ipython3",
   "version": "3.11.3"
  },
  "orig_nbformat": 4
 },
 "nbformat": 4,
 "nbformat_minor": 2
}
