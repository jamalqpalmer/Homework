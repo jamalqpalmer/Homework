{
 "cells": [
  {
   "cell_type": "code",
   "execution_count": 1,
   "metadata": {},
   "outputs": [],
   "source": [
    "import json\n",
    "import dotenv\n",
    "import pandas\n",
    "import os\n",
    "import requests\n",
    "\n"
   ]
  },
  {
   "cell_type": "code",
   "execution_count": 2,
   "metadata": {},
   "outputs": [
    {
     "name": "stdout",
     "output_type": "stream",
     "text": [
      "None\n"
     ]
    }
   ],
   "source": [
    "from dotenv import load_dotenv\n",
    "import os\n",
    "\n",
    "# Load environment variables from .env file\n",
    "load_dotenv()\n",
    "\n",
    "# Get the API key from environment variables\n",
    "api_key = os.getenv('182cac1254f70347ff44ec300a075506')\n",
    "\n",
    "# Print the API key\n",
    "print(api_key)"
   ]
  },
  {
   "cell_type": "code",
   "execution_count": 17,
   "metadata": {},
   "outputs": [
    {
     "name": "stdout",
     "output_type": "stream",
     "text": [
      "Connection error occurred: Invalid URL 'None': No scheme supplied. Perhaps you meant https://None?\n",
      "Today's weather in Montreal is as follows;\n",
      "\n",
      "293.95 degrees\n",
      "\n",
      "58 humidity\n",
      "\n",
      "broken clouds as the forecast\n",
      "\n"
     ]
    }
   ],
   "source": [
    "# Question 8-10\n",
    "import json\n",
    "import dotenv\n",
    "import pandas\n",
    "import os\n",
    "import requests\n",
    "try:\n",
    "    #Send GET request to the API (Question 8)\n",
    "    response = requests.get(api_key)\n",
    "    print(response)\n",
    "\n",
    "\n",
    "    #Check the response status code\n",
    "    if response.status_code == 200:\n",
    "        #Means request was successful\n",
    "        data = response.json()\n",
    "        print(data, '\\n\\n')\n",
    "\n",
    "        #Extract relevant weather info (Question 10)\n",
    "        temperature = data ['main']['temp']\n",
    "        humidity = data ['main']['humidity']\n",
    "        weather_description = data ['weather'][0]['description']\n",
    "        city = data ['name']\n",
    "\n",
    "        print(temperature)\n",
    "        print(humidity)\n",
    "        print(weather_description)\n",
    "        print(city)\n",
    "    else:\n",
    "        #Request failed, fix error (Question 9)\n",
    "        print(f\"Request failed with status code {response.status_code}\")\n",
    "except requests.exceptions.RequestException as e:\n",
    "    # Handle connection errors\n",
    "    print(\"Connection error occurred:\", e) \n",
    "\n",
    "#Format, Display and Test information (Question 11-12).\n",
    "print(\"Today's weather in\", city, \"is as follows;\\n\",)\n",
    "print(temperature, \"degrees\\n\")\n",
    "print(humidity, \"humidity\\n\")\n",
    "print(weather_description, \"as the forecast\\n\")\n",
    "\n",
    "#Question 13 - Need more support/help with this one.\n",
    "\n",
    "\n",
    "\n"
   ]
  },
  {
   "cell_type": "code",
   "execution_count": 16,
   "metadata": {},
   "outputs": [
    {
     "name": "stdout",
     "output_type": "stream",
     "text": [
      "293.95\n"
     ]
    }
   ],
   "source": [
    "#Question 13 \n",
    "import json\n",
    "from dotenv import load_dotenv\n",
    "import pandas\n",
    "import os\n",
    "import requests\n",
    "\n",
    "#Load API Key\n",
    "load_dotenv(api_key)\n",
    "\n",
    "#Enhance your project by adding more features, such as handling multiple locations\n",
    "temperature = data ['main']['temp']\n",
    "humidity = data ['main']['humidity']\n",
    "weather_description = data ['weather'][0]['description']\n",
    "city = data ['name']\n",
    "\n"
   ]
  }
 ],
 "metadata": {
  "kernelspec": {
   "display_name": "Python 3",
   "language": "python",
   "name": "python3"
  },
  "language_info": {
   "codemirror_mode": {
    "name": "ipython",
    "version": 3
   },
   "file_extension": ".py",
   "mimetype": "text/x-python",
   "name": "python",
   "nbconvert_exporter": "python",
   "pygments_lexer": "ipython3",
   "version": "3.11.3"
  },
  "orig_nbformat": 4
 },
 "nbformat": 4,
 "nbformat_minor": 2
}
