{
 "cells": [
  {
   "cell_type": "code",
   "execution_count": null,
   "metadata": {},
   "outputs": [],
   "source": [
    "import json\n",
    "import dotenv\n",
    "import pandas\n",
    "import os\n",
    "import requests\n",
    "\n"
   ]
  },
  {
   "cell_type": "code",
   "execution_count": 8,
   "metadata": {},
   "outputs": [
    {
     "name": "stdout",
     "output_type": "stream",
     "text": [
      "None\n"
     ]
    }
   ],
   "source": [
    "from dotenv import load_dotenv\n",
    "import os\n",
    "\n",
    "# Load environment variables from .env file\n",
    "load_dotenv()\n",
    "\n",
    "# Get the API key from environment variables\n",
    "api_key = os.getenv('182cac1254f70347ff44ec300a075506')\n",
    "\n",
    "# Print the API key\n",
    "print(api_key)"
   ]
  },
  {
   "cell_type": "code",
   "execution_count": 39,
   "metadata": {},
   "outputs": [
    {
     "name": "stdout",
     "output_type": "stream",
     "text": [
      "<Response [200]>\n",
      "{'coord': {'lon': -73.5878, 'lat': 45.5088}, 'weather': [{'id': 804, 'main': 'Clouds', 'description': 'overcast clouds', 'icon': '04d'}], 'base': 'stations', 'main': {'temp': 301.93, 'feels_like': 301.45, 'temp_min': 300.71, 'temp_max': 302.77, 'pressure': 1005, 'humidity': 39}, 'visibility': 10000, 'wind': {'speed': 5.14, 'deg': 100, 'gust': 7.72}, 'clouds': {'all': 100}, 'dt': 1686607191, 'sys': {'type': 1, 'id': 498, 'country': 'CA', 'sunrise': 1686560719, 'sunset': 1686616991}, 'timezone': -14400, 'id': 6077243, 'name': 'Montreal', 'cod': 200} \n",
      "\n",
      "\n",
      "301.93\n",
      "39\n",
      "overcast clouds\n",
      "Montreal\n",
      "Today's weather in Montreal is as follows;\n",
      "\n",
      "301.93 degrees\n",
      "\n",
      "39 humidity\n",
      "\n",
      "overcast clouds as the forecast\n",
      "\n"
     ]
    }
   ],
   "source": [
    "# Question 8-10\n",
    "import json\n",
    "import dotenv\n",
    "import pandas\n",
    "import os\n",
    "import requests\n",
    "try:\n",
    "    #Send GET request to the API (Question 8)\n",
    "    response = requests.get('http://api.openweathermap.org/data/2.5/weather?q=Montreal&appid=182cac1254f70347ff44ec300a075506')\n",
    "    print(response)\n",
    "\n",
    "\n",
    "    #Check the response status code\n",
    "    if response.status_code == 200:\n",
    "        #Means request was successful\n",
    "        data = response.json()\n",
    "        print(data, '\\n\\n')\n",
    "\n",
    "        #Extract relevant weather info (Question 10)\n",
    "        temperature = data ['main']['temp']\n",
    "        humidity = data ['main']['humidity']\n",
    "        weather_description = data ['weather'][0]['description']\n",
    "        city = data ['name']\n",
    "\n",
    "        print(temperature)\n",
    "        print(humidity)\n",
    "        print(weather_description)\n",
    "        print(city)\n",
    "    else:\n",
    "        #Request failed, fix error (Question 9)\n",
    "        print(f\"Request failed with status code {response.status_code}\")\n",
    "except requests.exceptions.RequestException as e:\n",
    "    # Handle connection errors\n",
    "    print(\"Connection error occurred:\", e) \n",
    "\n",
    "#Format, Display and Test information (Question 11-12).\n",
    "print(\"Today's weather in\", city, \"is as follows;\\n\",)\n",
    "print(temperature, \"degrees\\n\")\n",
    "print(humidity, \"humidity\\n\")\n",
    "print(weather_description, \"as the forecast\\n\")\n",
    "\n",
    "#Question 13 - Need more support/help with this one.\n",
    "\n",
    "\n",
    "\n"
   ]
  }
 ],
 "metadata": {
  "kernelspec": {
   "display_name": "Python 3",
   "language": "python",
   "name": "python3"
  },
  "language_info": {
   "codemirror_mode": {
    "name": "ipython",
    "version": 3
   },
   "file_extension": ".py",
   "mimetype": "text/x-python",
   "name": "python",
   "nbconvert_exporter": "python",
   "pygments_lexer": "ipython3",
   "version": "3.11.3"
  },
  "orig_nbformat": 4
 },
 "nbformat": 4,
 "nbformat_minor": 2
}
